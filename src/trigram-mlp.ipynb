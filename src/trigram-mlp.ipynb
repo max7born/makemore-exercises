{
 "cells": [
  {
   "cell_type": "code",
   "execution_count": null,
   "metadata": {},
   "outputs": [],
   "source": [
    "import torch\n",
    "import matplotlib.pyplot as plt"
   ]
  },
  {
   "cell_type": "code",
   "execution_count": null,
   "metadata": {},
   "outputs": [],
   "source": [
    "words = open('../data/names.txt', 'r').read().splitlines()\n",
    "words[:10]"
   ]
  },
  {
   "cell_type": "code",
   "execution_count": null,
   "metadata": {},
   "outputs": [],
   "source": [
    "chars = sorted(list(set(''.join(words))))\n",
    "ctoi = {c: i+1 for i, c in enumerate(chars)}\n",
    "ctoi['.'] = 0\n",
    "itoc = {i: c for c, i in ctoi.items()}\n",
    "\n",
    "num_chars = 27"
   ]
  },
  {
   "cell_type": "code",
   "execution_count": null,
   "metadata": {},
   "outputs": [],
   "source": [
    "# Create train set\n",
    "xs, ys = [], []\n",
    "\n",
    "for w in words:\n",
    "  w = ['.'] + ['.'] + list(w) + ['.'] + ['.']  \n",
    "  for ch1, ch2, ch3 in zip(w, w[1:], w[2:]):\n",
    "    i1, i2, i3= ctoi[ch1], ctoi[ch2], ctoi[ch3]\n",
    "    context = [i1, i2]\n",
    "    xs.append(context)\n",
    "    ys.append(i3)\n",
    "\n",
    "xs = torch.tensor(xs)\n",
    "ys = torch.tensor(ys)\n",
    "\n",
    "num_ex = ys.nelement()\n",
    "\n",
    "xs.shape"
   ]
  },
  {
   "cell_type": "code",
   "execution_count": null,
   "metadata": {},
   "outputs": [],
   "source": [
    "# init NN\n",
    "embed_dim = 20\n",
    "context_len = 2\n",
    "g = torch.Generator().manual_seed(2147483647)\n",
    "C = torch.randn((num_chars, embed_dim), generator=g, requires_grad=True)\n",
    "# C[xs].shape = (num_data_pairs, context_len, embed_dim)\n",
    "W = torch.randn((context_len*embed_dim, num_chars), generator=g, requires_grad=True)\n",
    "\n",
    "params = [C, W]\n",
    "for p in params:\n",
    "  p.requires_grad = True"
   ]
  },
  {
   "cell_type": "code",
   "execution_count": null,
   "metadata": {},
   "outputs": [],
   "source": [
    "num_iters=500\n",
    "lr = 0.5\n",
    "\n",
    "for k in range(num_iters):\n",
    "  # NN forward pass\n",
    "  xenc = C[xs]\n",
    "  xenc = xenc.view(-1, context_len*embed_dim)\n",
    "  logits = xenc @ W             # log counts -> only thing that will change in Transformers\n",
    "  counts = logits.exp()         # equivalent to counts\n",
    "  P = counts / counts.sum(dim=1, keepdims=True)\n",
    "  # last 2 lines: softmax\n",
    "  \n",
    "  # loss: negative llh of probs corresponding to true labels\n",
    "  loss = -P[torch.arange(num_ex), ys].log().mean() + 0.01*(W**2).mean()\n",
    "  \n",
    "  ## NN backward pass\n",
    "  W.grad = None       # set grad to 0\n",
    "  loss.backward()\n",
    "  if k%10 == 0:\n",
    "    print(f'Iter {k}, loss {loss.item()}')\n",
    "\n",
    "  W.data += -lr*W.grad"
   ]
  },
  {
   "cell_type": "code",
   "execution_count": null,
   "metadata": {},
   "outputs": [],
   "source": [
    "# Sampling\n",
    "g = torch.Generator().manual_seed(2147483647)\n",
    "num_samples = 5\n",
    "\n",
    "for i in range(num_samples):\n",
    "  sample = []\n",
    "  i1, i2 = 0, 0\n",
    "  while True:\n",
    "    xenc = C[torch.tensor([[i1, i2]])].flatten().unsqueeze(0)\n",
    "    logits = xenc @ W\n",
    "    counts = logits.exp()\n",
    "    p = counts / counts.sum(1, keepdims=True)\n",
    "\n",
    "    i3 = torch.multinomial(p, num_samples=1, replacement=True, generator=g).item()\n",
    "    sample.append(itoc[i3])\n",
    "    if i3 == 0:\n",
    "      break\n",
    "    i1, i2 = i2, i3\n",
    "\n",
    "  print(''.join(sample))\n"
   ]
  }
 ],
 "metadata": {
  "kernelspec": {
   "display_name": "isp",
   "language": "python",
   "name": "python3"
  },
  "language_info": {
   "codemirror_mode": {
    "name": "ipython",
    "version": 3
   },
   "file_extension": ".py",
   "mimetype": "text/x-python",
   "name": "python",
   "nbconvert_exporter": "python",
   "pygments_lexer": "ipython3",
   "version": "3.9.13"
  },
  "orig_nbformat": 4,
  "vscode": {
   "interpreter": {
    "hash": "21cbe5e4507590016ddf6079d506494e7f2eacb4fe848e3412c5364edd85520f"
   }
  }
 },
 "nbformat": 4,
 "nbformat_minor": 2
}
