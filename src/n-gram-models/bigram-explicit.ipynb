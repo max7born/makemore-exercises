{
 "cells": [
  {
   "cell_type": "code",
   "execution_count": null,
   "metadata": {},
   "outputs": [],
   "source": [
    "import torch\n",
    "import matplotlib.pyplot as plt"
   ]
  },
  {
   "cell_type": "code",
   "execution_count": null,
   "metadata": {},
   "outputs": [],
   "source": [
    "words = open('../data/names.txt', 'r').read().splitlines()\n",
    "words[:10]"
   ]
  },
  {
   "cell_type": "code",
   "execution_count": null,
   "metadata": {},
   "outputs": [],
   "source": [
    "chars = sorted(list(set(''.join(words))))\n",
    "ctoi = {c: i+1 for i, c in enumerate(chars)}\n",
    "ctoi['.'] = 0\n",
    "itoc = {i: c for c, i in ctoi.items()}"
   ]
  },
  {
   "cell_type": "code",
   "execution_count": null,
   "metadata": {},
   "outputs": [],
   "source": [
    "num_chars = 27  # 26 letters + '.'\n",
    "counts = torch.zeros((num_chars, num_chars), dtype=torch.int32)\n",
    "# row: prev char, col: next char\n",
    "\n",
    "for w in words:\n",
    "  w = ['.'] + list(w) + ['.']\n",
    "  for ch1, ch2 in zip(w, w[1:]):\n",
    "    r, c = ctoi[ch1], ctoi[ch2]\n",
    "    counts[r, c] += 1"
   ]
  },
  {
   "cell_type": "code",
   "execution_count": null,
   "metadata": {},
   "outputs": [],
   "source": [
    "%matplotlib inline\n",
    "\n",
    "plt.figure(figsize=(16,16))\n",
    "plt.imshow(counts, cmap='Blues')\n",
    "for i in range(27):\n",
    "    for j in range(27):\n",
    "        chstr = itoc[i] + itoc[j]\n",
    "        plt.text(j, i, chstr, ha=\"center\", va=\"bottom\", color='gray')\n",
    "        plt.text(j, i, counts[i, j].item(), ha=\"center\", va=\"top\", color='gray')\n",
    "plt.axis('off');"
   ]
  },
  {
   "cell_type": "code",
   "execution_count": null,
   "metadata": {},
   "outputs": [],
   "source": [
    "# Prob distribution incl. model smoothing\n",
    "P = (counts+1).float() / counts.sum(dim=1, keepdims=True)"
   ]
  },
  {
   "cell_type": "code",
   "execution_count": null,
   "metadata": {},
   "outputs": [],
   "source": [
    "# Sampling (forward mode)\n",
    "g = torch.Generator().manual_seed(2147483647)\n",
    "num_samples = 5\n",
    "\n",
    "for i in range(num_samples):\n",
    "  sample = []\n",
    "  i1 = 0\n",
    "  while True:\n",
    "    i2 = torch.multinomial(P[i1], num_samples=1, replacement=True, generator=g).item()\n",
    "    sample.append(itoc[i2])\n",
    "    if i2 == 0:\n",
    "      break\n",
    "    i1 = i2\n",
    "\n",
    "  print(''.join(sample))"
   ]
  },
  {
   "cell_type": "code",
   "execution_count": null,
   "metadata": {},
   "outputs": [],
   "source": [
    "def compute_nll(word: str):\n",
    "  llh = 0\n",
    "  chs = ['.'] + list(word) + ['.']\n",
    "  for ch1, ch2 in zip(chs, chs[1:]):\n",
    "    logprob = torch.log(P[ctoi[ch1], ctoi[ch2]])\n",
    "    llh += logprob\n",
    "  return -llh\n",
    "\n",
    "compute_nll('max')"
   ]
  }
 ],
 "metadata": {
  "kernelspec": {
   "display_name": "isp",
   "language": "python",
   "name": "python3"
  },
  "language_info": {
   "codemirror_mode": {
    "name": "ipython",
    "version": 3
   },
   "file_extension": ".py",
   "mimetype": "text/x-python",
   "name": "python",
   "nbconvert_exporter": "python",
   "pygments_lexer": "ipython3",
   "version": "3.9.13"
  },
  "orig_nbformat": 4,
  "vscode": {
   "interpreter": {
    "hash": "21cbe5e4507590016ddf6079d506494e7f2eacb4fe848e3412c5364edd85520f"
   }
  }
 },
 "nbformat": 4,
 "nbformat_minor": 2
}
