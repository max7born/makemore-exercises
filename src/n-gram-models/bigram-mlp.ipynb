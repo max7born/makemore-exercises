{
 "cells": [
  {
   "cell_type": "code",
   "execution_count": null,
   "metadata": {},
   "outputs": [],
   "source": [
    "import torch\n",
    "import matplotlib.pyplot as plt"
   ]
  },
  {
   "cell_type": "code",
   "execution_count": null,
   "metadata": {},
   "outputs": [],
   "source": [
    "words = open('../data/names.txt', 'r').read().splitlines()\n",
    "words[:10]"
   ]
  },
  {
   "cell_type": "code",
   "execution_count": null,
   "metadata": {},
   "outputs": [],
   "source": [
    "chars = sorted(list(set(''.join(words))))\n",
    "ctoi = {c: i+1 for i, c in enumerate(chars)}\n",
    "ctoi['.'] = 0\n",
    "itoc = {i: c for c, i in ctoi.items()}\n",
    "\n",
    "num_chars = 27"
   ]
  },
  {
   "cell_type": "code",
   "execution_count": null,
   "metadata": {},
   "outputs": [],
   "source": [
    "# Create train set\n",
    "xs, ys = [], []\n",
    "\n",
    "for w in words:\n",
    "  w = ['.'] + list(w) + ['.']\n",
    "  for ch1, ch2 in zip(w, w[1:]):\n",
    "    r, c = ctoi[ch1], ctoi[ch2]\n",
    "    xs.append(r)\n",
    "    ys.append(c)\n",
    "\n",
    "xs = torch.tensor(xs)\n",
    "ys = torch.tensor(ys)\n",
    "\n",
    "num_ex = xs.nelement()\n",
    "num_ex"
   ]
  },
  {
   "cell_type": "code",
   "execution_count": null,
   "metadata": {},
   "outputs": [],
   "source": [
    "import torch.nn.functional as F\n",
    "xenc = F.one_hot(xs, num_classes=num_chars).float()\n",
    "xenc.shape"
   ]
  },
  {
   "cell_type": "code",
   "execution_count": null,
   "metadata": {},
   "outputs": [],
   "source": [
    "# init NN\n",
    "g = torch.Generator().manual_seed(2147483647)\n",
    "W = torch.randn((num_chars, num_chars), generator=g, requires_grad=True)\n",
    "num_iters = 100\n",
    "lr = 10"
   ]
  },
  {
   "cell_type": "code",
   "execution_count": null,
   "metadata": {},
   "outputs": [],
   "source": [
    "for k in range(num_iters):\n",
    "  # NN forward pass\n",
    "  logits = xenc @ W             # log counts -> only thing that will change in Transformers\n",
    "  print(logits.shape)\n",
    "  # matrix mult actually plugs out the i-th row if label is i\n",
    "  counts = logits.exp()         # equivalent to counts\n",
    "  P = counts / counts.sum(dim=1, keepdims=True)\n",
    "  # last 2 lines: softmax\n",
    "  \n",
    "  # loss: negative llh of probs corresponding to true labels\n",
    "  loss = -P[torch.arange(num_ex), ys].log().mean() + 0.01*(W**2).mean()\n",
    "\n",
    "\n",
    "  ## NN backward pass\n",
    "  W.grad = None       # set grad to 0\n",
    "  loss.backward()\n",
    "\n",
    "  print(loss.item())\n",
    "\n",
    "  W.data += -lr*W.grad"
   ]
  },
  {
   "cell_type": "code",
   "execution_count": null,
   "metadata": {},
   "outputs": [],
   "source": [
    "# Sampling\n",
    "g = torch.Generator().manual_seed(2147483647)\n",
    "num_samples = 5\n",
    "\n",
    "for i in range(num_samples):\n",
    "  sample = []\n",
    "  i1 = 0\n",
    "  while True:\n",
    "    xenc = F.one_hot(torch.tensor([i1]), num_classes=num_chars).float()\n",
    "    logits = xenc @ W\n",
    "    counts = logits.exp()\n",
    "    p = counts / counts.sum(1, keepdims=True)\n",
    "\n",
    "    i2 = torch.multinomial(p, num_samples=1, replacement=True, generator=g).item()\n",
    "    sample.append(itoc[i2])\n",
    "    if i2 == 0:\n",
    "      break\n",
    "    i1 = i2\n",
    "\n",
    "  print(''.join(sample))\n",
    "\n",
    "  # Exactly the same results as explicit model!"
   ]
  }
 ],
 "metadata": {
  "kernelspec": {
   "display_name": "isp",
   "language": "python",
   "name": "python3"
  },
  "language_info": {
   "codemirror_mode": {
    "name": "ipython",
    "version": 3
   },
   "file_extension": ".py",
   "mimetype": "text/x-python",
   "name": "python",
   "nbconvert_exporter": "python",
   "pygments_lexer": "ipython3",
   "version": "3.9.13"
  },
  "orig_nbformat": 4,
  "vscode": {
   "interpreter": {
    "hash": "21cbe5e4507590016ddf6079d506494e7f2eacb4fe848e3412c5364edd85520f"
   }
  }
 },
 "nbformat": 4,
 "nbformat_minor": 2
}
