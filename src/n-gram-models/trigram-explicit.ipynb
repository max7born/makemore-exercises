{
 "cells": [
  {
   "cell_type": "code",
   "execution_count": null,
   "metadata": {},
   "outputs": [],
   "source": [
    "import torch\n",
    "import matplotlib.pyplot as plt"
   ]
  },
  {
   "cell_type": "code",
   "execution_count": null,
   "metadata": {},
   "outputs": [],
   "source": [
    "words = open('../data/names.txt', 'r').read().splitlines()\n",
    "words[:10]"
   ]
  },
  {
   "cell_type": "code",
   "execution_count": null,
   "metadata": {},
   "outputs": [],
   "source": [
    "chars = sorted(list(set(''.join(words))))\n",
    "ctoi = {c: i+1 for i, c in enumerate(chars)}\n",
    "ctoi['.'] = 0\n",
    "itoc = {i: c for c, i in ctoi.items()}"
   ]
  },
  {
   "cell_type": "code",
   "execution_count": null,
   "metadata": {},
   "outputs": [],
   "source": [
    "num_chars = 27  # 26 letters + '.'\n",
    "counts = torch.zeros((num_chars, num_chars, num_chars), dtype=torch.int32)\n",
    "# d1, d2: two prev chars; d3: next char\n",
    "\n",
    "for w in words:\n",
    "  w = ['.'] + ['.'] + list(w) + ['.'] + ['.']\n",
    "  for ch1, ch2, ch3 in zip(w, w[1:], w[2:]):\n",
    "    counts[ctoi[ch1], ctoi[ch2], ctoi[ch3]] += 1"
   ]
  },
  {
   "cell_type": "code",
   "execution_count": null,
   "metadata": {},
   "outputs": [],
   "source": [
    "import torch.nn.functional as F\n",
    "P = (counts+1).float().clone()\n",
    "# normalize P s.t. for every pair (i1, i2) as first two indices, we get a prob distr with sum 1\n",
    "P = F.normalize(P, p=1, dim=2)\n",
    "\n",
    "# for i1, i2 in zip(range(27), range(27)):\n",
    "#   print(P[i1, i2].sum())"
   ]
  },
  {
   "cell_type": "code",
   "execution_count": null,
   "metadata": {},
   "outputs": [],
   "source": [
    "# Sampling (forward mode)\n",
    "g = torch.Generator().manual_seed(2147483647)\n",
    "num_samples = 5\n",
    "\n",
    "for _ in range(num_samples):\n",
    "  sample = []\n",
    "  i1, i2 = 0, 0\n",
    "  while True:\n",
    "    # p = counts[i1, i2].float()\n",
    "    p = P[i1, i2]\n",
    "    i3 = torch.multinomial(p, num_samples=1, replacement=True, generator=g).item()\n",
    "    sample.append(itoc[i3])\n",
    "    if i3 == 0:\n",
    "      break\n",
    "    i1, i2 = i2, i3\n",
    "\n",
    "  print(''.join(sample))"
   ]
  },
  {
   "cell_type": "code",
   "execution_count": null,
   "metadata": {},
   "outputs": [],
   "source": [
    "def compute_nll(word: str):\n",
    "  llh = 0\n",
    "  w = ['.'] + ['.'] + list(word) + ['.'] + ['.']\n",
    "  for ch1, ch2, ch3 in zip(w, w[1:], w[2:]):\n",
    "    logprob = torch.log(P[ctoi[ch1], ctoi[ch2], ctoi[ch3]])\n",
    "    llh += logprob\n",
    "  return -llh\n",
    "\n",
    "compute_nll('max')"
   ]
  }
 ],
 "metadata": {
  "kernelspec": {
   "display_name": "isp",
   "language": "python",
   "name": "python3"
  },
  "language_info": {
   "codemirror_mode": {
    "name": "ipython",
    "version": 3
   },
   "file_extension": ".py",
   "mimetype": "text/x-python",
   "name": "python",
   "nbconvert_exporter": "python",
   "pygments_lexer": "ipython3",
   "version": "3.9.13"
  },
  "orig_nbformat": 4,
  "vscode": {
   "interpreter": {
    "hash": "21cbe5e4507590016ddf6079d506494e7f2eacb4fe848e3412c5364edd85520f"
   }
  }
 },
 "nbformat": 4,
 "nbformat_minor": 2
}
